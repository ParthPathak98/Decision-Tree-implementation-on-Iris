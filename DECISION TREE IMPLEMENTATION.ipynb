{
 "cells": [
  {
   "cell_type": "code",
   "execution_count": 1,
   "metadata": {},
   "outputs": [],
   "source": [
    "from sklearn import datasets\n",
    "from sklearn.model_selection import train_test_split\n",
    "import pandas as pd\n",
    "import numpy as np\n",
    "import math as m"
   ]
  },
  {
   "cell_type": "code",
   "execution_count": 2,
   "metadata": {},
   "outputs": [],
   "source": [
    "#entropy function for decison tree.\n",
    "def entropy(y):\n",
    "    set_val = set(y)\n",
    "    total = len(y)\n",
    "    single_entropy = 0\n",
    "    for l in set_val:\n",
    "        p = (y == l).sum() / total\n",
    "        single_entropy += -p*m.log2(p)\n",
    "    return single_entropy"
   ]
  },
  {
   "cell_type": "code",
   "execution_count": 3,
   "metadata": {},
   "outputs": [],
   "source": [
    "#info gain function for decision tree.\n",
    "def info_gain(x , y , index):\n",
    "    initial_entropy = entropy(y)\n",
    "    step = x[x.columns[index]].mean()\n",
    "    init = step/2\n",
    "    condition = 0\n",
    "    maxm = -1e10\n",
    "    split_info_max = -1e10\n",
    "    while init <= 2*step :\n",
    "        final_entropy = 0\n",
    "        y_new_greater  = y.loc[x[x.columns[index]] >= init]\n",
    "        y_new_less  = y.loc[x[x.columns[index]] < init]\n",
    "        final_entropy = (entropy(y_new_greater)) + (entropy(y_new_less))\n",
    "        if final_entropy > maxm:\n",
    "            maxm = final_entropy\n",
    "            condition = init\n",
    "            split_info_max = split_info(y_new_greater , y_new_less) \n",
    "        init += init\n",
    "    return maxm - entropy(y), condition , split_info_max"
   ]
  },
  {
   "cell_type": "code",
   "execution_count": 4,
   "metadata": {},
   "outputs": [],
   "source": [
    "def split_info(y1 , y2) :\n",
    "    d1 = len(y1)\n",
    "    d2 = len(y2)\n",
    "    d = d1 + d2\n",
    "    if(d1 == 0 or d2 == 0 or d == 0):\n",
    "        return 0\n",
    "    p = (-1*d1*m.log2(d1/d))/d +  (-1*d2*m.log2(d2/d))/d\n",
    "    return p"
   ]
  },
  {
   "cell_type": "code",
   "execution_count": 5,
   "metadata": {},
   "outputs": [],
   "source": [
    "def gain_ratio(x ,y ,index):\n",
    "    return info_gain(x , y , index)[0] / info_gain(x , y , index)[2]"
   ]
  },
  {
   "cell_type": "code",
   "execution_count": 6,
   "metadata": {},
   "outputs": [],
   "source": [
    "def dt_new(x , y , feature_index , level):\n",
    "    \n",
    "    #return if pure node in encountered . \n",
    "    if(len(set(y)) == 1): \n",
    "        print('Level in the tree is  : ' , level)\n",
    "        print('Current entropy is  : ' , 0.0)\n",
    "        print('Count of feature :' , len(y))\n",
    "        print('Reached leaf node')\n",
    "        print()\n",
    "        return\n",
    "    \n",
    "    #if all features are traversed\n",
    "    \n",
    "    if(len(feature_index) == 0):\n",
    "        print('Level is  : ' , level)\n",
    "        print('Current entropy is : ' , entropy(y))\n",
    "        print('Leaf node reached , No features left!')\n",
    "        print()\n",
    "        return\n",
    "    maxm = -10000000\n",
    "    best_feature = -1\n",
    "    condition = 0\n",
    "    for i in feature_index:\n",
    "        gain = gain_ratio(x , y , i)\n",
    "        if gain > maxm:\n",
    "            maxm = gain\n",
    "            best_feature = i\n",
    "            condition = info_gain(x , y , i)[1]\n",
    "    # printing data\n",
    "    \n",
    "    print('Level is  : ' , level)\n",
    "    print('Current entropy is -   : ' , entropy(y))\n",
    "    print('Splitting on feature - ' , x.columns[best_feature] ,  '-:with gain ratio of -   : ' , maxm)\n",
    "    print('num_features :' , len(y))\n",
    "    print()\n",
    "    \n",
    "    # class to split upon.\n",
    "    labels = set(x[x.columns[best_feature]])\n",
    "    \n",
    "    #removing features traversed\n",
    "    if best_feature not in feature_index:\n",
    "        return\n",
    "    feature_index.remove(best_feature)\n",
    "    \n",
    "    x_new_greater  = x.loc[x[x.columns[best_feature]] >= condition]\n",
    "    y_new_greater  = y.loc[x[x.columns[best_feature]] >=  condition]\n",
    "    x_new_lesser  = x.loc[x[x.columns[best_feature]] < condition]\n",
    "    y_new_lesser  = y.loc[x[x.columns[best_feature]] <  condition]\n",
    "    \n",
    "    #recursively calling to print \n",
    "    dt_new(x_new_greater , y_new_greater , feature_index , level + 1)\n",
    "    dt_new(x_new_lesser , y_new_lesser , feature_index , level + 1)\n",
    "    feature_index.append(best_feature)"
   ]
  },
  {
   "cell_type": "code",
   "execution_count": 7,
   "metadata": {},
   "outputs": [
    {
     "data": {
      "text/plain": [
       "[0, 1, 2, 3]"
      ]
     },
     "execution_count": 7,
     "metadata": {},
     "output_type": "execute_result"
    }
   ],
   "source": [
    "iris = datasets.load_iris()\n",
    "\n",
    "#  converting dataset to dataframe\n",
    "df = pd.DataFrame(data= np.c_[iris['data'], iris['target']],columns= iris['feature_names'] + ['target'])\n",
    "df.columns = ['sl' , 'sw' , 'pl' , 'pw' , 'target']\n",
    "\n",
    "#  dataset into test and train \n",
    "x_train , x_test = train_test_split(df.iloc[: , 0:-1] , random_state = 20)\n",
    "y_train , y_test = train_test_split(df.iloc[: , -1] , random_state = 20)\n",
    "list_of_features = x_train.columns.tolist()\n",
    "\n",
    "\n",
    "\n",
    "#taking out feature indices(column indices)\n",
    "feature_idx = [i for i in range(len(x_train.columns))]\n",
    "feature_idx"
   ]
  },
  {
   "cell_type": "code",
   "execution_count": 8,
   "metadata": {},
   "outputs": [
    {
     "name": "stderr",
     "output_type": "stream",
     "text": [
      "F:\\Anaconda\\lib\\site-packages\\ipykernel_launcher.py:2: RuntimeWarning: invalid value encountered in double_scalars\n",
      "  \n"
     ]
    },
    {
     "name": "stdout",
     "output_type": "stream",
     "text": [
      "Level is  :  0\n",
      "Current entropy is -   :  1.5844996446144277\n",
      "Splitting on feature -  sw -:with gain ratio of -   :  1.0502869058388165\n",
      "num_features : 112\n",
      "\n",
      "Level is  :  1\n",
      "Current entropy is -   :  1.3090909691036434\n",
      "Splitting on feature -  pl -:with gain ratio of -   :  0.1618696099795078\n",
      "num_features : 55\n",
      "\n",
      "Level is  :  2\n",
      "Current entropy is -   :  1.4690640517640445\n",
      "Splitting on feature -  sl -:with gain ratio of -   :  0.22174921219934826\n",
      "num_features : 31\n",
      "\n",
      "Level is  :  3\n",
      "Current entropy is -   :  0.8112781244591328\n",
      "Splitting on feature -  pw -:with gain ratio of -   :  0.18110652893703225\n",
      "num_features : 20\n",
      "\n",
      "Level in the tree is  :  4\n",
      "Current entropy is  :  0.0\n",
      "Count of feature : 11\n",
      "Reached leaf node\n",
      "\n",
      "Level is  :  4\n",
      "Current entropy is :  0.9910760598382222\n",
      "Leaf node reached , No features left!\n",
      "\n",
      "Level is  :  3\n",
      "Current entropy is -   :  0.8658566174572235\n",
      "Splitting on feature -  pw -:with gain ratio of -   :  0.2992387810369147\n",
      "num_features : 11\n",
      "\n",
      "Level is  :  4\n",
      "Current entropy is :  1.1488348542809166\n",
      "Leaf node reached , No features left!\n",
      "\n",
      "Level in the tree is  :  4\n",
      "Current entropy is  :  0.0\n",
      "Count of feature : 4\n",
      "Reached leaf node\n",
      "\n",
      "Level in the tree is  :  2\n",
      "Current entropy is  :  0.0\n",
      "Count of feature : 24\n",
      "Reached leaf node\n",
      "\n",
      "Level is  :  1\n",
      "Current entropy is -   :  1.3254539799066205\n",
      "Splitting on feature -  sl -:with gain ratio of -   :  0.8959422277723061\n",
      "num_features : 57\n",
      "\n",
      "Level is  :  2\n",
      "Current entropy is -   :  0.9709505944546686\n",
      "Splitting on feature -  pw -:with gain ratio of -   :  -10000000\n",
      "num_features : 30\n",
      "\n",
      "Level is  :  2\n",
      "Current entropy is -   :  1.2486545206672304\n",
      "Splitting on feature -  pw -:with gain ratio of -   :  0.5662428525575913\n",
      "num_features : 27\n",
      "\n",
      "Level is  :  3\n",
      "Current entropy is -   :  0.7871265862012691\n",
      "Splitting on feature -  pl -:with gain ratio of -   :  0.21340638635318268\n",
      "num_features : 17\n",
      "\n",
      "Level is  :  4\n",
      "Current entropy is :  1.0\n",
      "Leaf node reached , No features left!\n",
      "\n",
      "Level in the tree is  :  4\n",
      "Current entropy is  :  0.0\n",
      "Count of feature : 9\n",
      "Reached leaf node\n",
      "\n",
      "Level is  :  3\n",
      "Current entropy is -   :  1.0\n",
      "Splitting on feature -  pw -:with gain ratio of -   :  -10000000\n",
      "num_features : 10\n",
      "\n"
     ]
    }
   ],
   "source": [
    "feature_idx = [i for i in range(len(x_train.columns))]\n",
    "dt_new(x_train , y_train , feature_idx , 0)"
   ]
  }
 ],
 "metadata": {
  "kernelspec": {
   "display_name": "Python 3",
   "language": "python",
   "name": "python3"
  },
  "language_info": {
   "codemirror_mode": {
    "name": "ipython",
    "version": 3
   },
   "file_extension": ".py",
   "mimetype": "text/x-python",
   "name": "python",
   "nbconvert_exporter": "python",
   "pygments_lexer": "ipython3",
   "version": "3.6.4"
  }
 },
 "nbformat": 4,
 "nbformat_minor": 2
}
